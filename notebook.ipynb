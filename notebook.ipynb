{
 "cells": [
  {
   "cell_type": "markdown",
   "source": "# Ajuste de modelos matemáticos\n\n##### En este notebook intentaremos encontrar los mejores modelos matemáticos a que se ajusten a una serie de datos medidos experimentalmente y sujetos a posibles errores de medición.\n\n##### Se realizará con ayuda del método de “mínimos cuadrados” que consiste en el estudio estadístico de la dispersión de los datos, luego lo ajustaremos a funciones polinómicas de 1ero, 2do, 3er y 4to grado para comparar cual se ajusta mejor.\n",
   "metadata": {
    "tags": [],
    "cell_id": "00000-84ec23a2-8aef-41b3-9062-04436675601d",
    "deepnote_app_coordinates": {
     "x": 0,
     "y": 30,
     "w": 24,
     "h": 5,
     "minH": 5
    },
    "deepnote_cell_type": "markdown",
    "deepnote_cell_height": 392
   }
  },
  {
   "cell_type": "markdown",
   "source": "### Importamos los paquetes necesarios",
   "metadata": {
    "tags": [],
    "is_collapsed": false,
    "cell_id": "00002-58fcb528-7656-4b1b-813d-4652c390e30e",
    "deepnote_app_coordinates": {
     "x": 0,
     "y": 51,
     "w": 24,
     "h": 2,
     "minH": 2,
     "maxH": 2
    },
    "deepnote_cell_type": "text-cell-h3",
    "deepnote_cell_height": 62
   }
  },
  {
   "cell_type": "code",
   "metadata": {
    "tags": [],
    "cell_id": "00000-4e3ed2e3-1892-404f-b2e5-3ac775b7193b",
    "deepnote_to_be_reexecuted": false,
    "source_hash": "b333e605",
    "execution_start": 1630346958967,
    "execution_millis": 438,
    "deepnote_app_coordinates": {
     "x": 0,
     "y": null,
     "w": 24,
     "h": 5,
     "minH": 5
    },
    "deepnote_cell_type": "code",
    "deepnote_cell_height": 117
   },
   "source": "import pandas as pd\nimport numpy as np\nimport matplotlib.pylab as plt",
   "execution_count": null,
   "outputs": []
  },
  {
   "cell_type": "markdown",
   "source": "### Aplicación práctica y datos",
   "metadata": {
    "tags": [],
    "is_collapsed": false,
    "cell_id": "00003-fc44ea55-3188-42bc-96e1-6e0792c7e23b",
    "deepnote_app_coordinates": {
     "x": 0,
     "y": 48,
     "w": 24,
     "h": 2,
     "minH": 2,
     "maxH": 2
    },
    "deepnote_cell_type": "text-cell-h3",
    "deepnote_cell_height": 62
   }
  },
  {
   "cell_type": "markdown",
   "source": "##### Un matraz con agua que al aparase del fuego tiene una temperatura de 100°C se lo deja reposar en un recinto con una temperatura ambiental de 25 ° C. Este ira perdiendo temperatura lentamente y cediéndosela al medio.\n##### La temperatura \"y\" (°C) estara en función tiempo \"x\" (min).\n",
   "metadata": {
    "tags": [],
    "cell_id": "00001-46ef4fd0-9491-4a1e-9ffd-0ea1b609b7e6",
    "deepnote_app_coordinates": {
     "x": 0,
     "y": 36,
     "w": 24,
     "h": 5,
     "minH": 5
    },
    "deepnote_cell_type": "markdown",
    "deepnote_cell_height": 122
   }
  },
  {
   "cell_type": "code",
   "metadata": {
    "tags": [],
    "cell_id": "00003-459c9e60-b83b-434d-a1c0-64bce2877b45",
    "deepnote_to_be_reexecuted": false,
    "source_hash": "5840ee4a",
    "execution_start": 1630346959414,
    "execution_millis": 40,
    "deepnote_app_coordinates": {
     "x": 0,
     "y": 42,
     "w": 24,
     "h": 5,
     "minH": 5
    },
    "deepnote_cell_type": "code",
    "deepnote_cell_height": 762,
    "deepnote_output_heights": [
     611
    ]
   },
   "source": "datos=pd.read_csv('Datos_2.csv',sep=';')\nx=datos['x']\ny=datos['y']\ndatos",
   "execution_count": null,
   "outputs": [
    {
     "output_type": "execute_result",
     "execution_count": 2,
     "data": {
      "application/vnd.deepnote.dataframe.v2+json": {
       "row_count": 60,
       "column_count": 2,
       "columns": [
        {
         "name": "x",
         "dtype": "int64",
         "stats": {
          "unique_count": 60,
          "nan_count": 0,
          "min": "1",
          "max": "60",
          "histogram": [
           {
            "bin_start": 1,
            "bin_end": 6.9,
            "count": 6
           },
           {
            "bin_start": 6.9,
            "bin_end": 12.8,
            "count": 6
           },
           {
            "bin_start": 12.8,
            "bin_end": 18.700000000000003,
            "count": 6
           },
           {
            "bin_start": 18.700000000000003,
            "bin_end": 24.6,
            "count": 6
           },
           {
            "bin_start": 24.6,
            "bin_end": 30.5,
            "count": 6
           },
           {
            "bin_start": 30.5,
            "bin_end": 36.400000000000006,
            "count": 6
           },
           {
            "bin_start": 36.400000000000006,
            "bin_end": 42.300000000000004,
            "count": 6
           },
           {
            "bin_start": 42.300000000000004,
            "bin_end": 48.2,
            "count": 6
           },
           {
            "bin_start": 48.2,
            "bin_end": 54.1,
            "count": 6
           },
           {
            "bin_start": 54.1,
            "bin_end": 60,
            "count": 6
           }
          ]
         }
        },
        {
         "name": "y",
         "dtype": "float64",
         "stats": {
          "unique_count": 60,
          "nan_count": 0,
          "min": "33.21",
          "max": "96.49",
          "histogram": [
           {
            "bin_start": 33.21,
            "bin_end": 39.538,
            "count": 22
           },
           {
            "bin_start": 39.538,
            "bin_end": 45.866,
            "count": 10
           },
           {
            "bin_start": 45.866,
            "bin_end": 52.194,
            "count": 6
           },
           {
            "bin_start": 52.194,
            "bin_end": 58.522,
            "count": 5
           },
           {
            "bin_start": 58.522,
            "bin_end": 64.85,
            "count": 4
           },
           {
            "bin_start": 64.85,
            "bin_end": 71.178,
            "count": 3
           },
           {
            "bin_start": 71.178,
            "bin_end": 77.506,
            "count": 3
           },
           {
            "bin_start": 77.506,
            "bin_end": 83.834,
            "count": 2
           },
           {
            "bin_start": 83.834,
            "bin_end": 90.162,
            "count": 3
           },
           {
            "bin_start": 90.162,
            "bin_end": 96.49,
            "count": 2
           }
          ]
         }
        },
        {
         "name": "_deepnote_index_column",
         "dtype": "int64"
        }
       ],
       "rows_top": [
        {
         "x": 1,
         "y": 96.49,
         "_deepnote_index_column": 0
        },
        {
         "x": 2,
         "y": 93.16,
         "_deepnote_index_column": 1
        },
        {
         "x": 3,
         "y": 90,
         "_deepnote_index_column": 2
        },
        {
         "x": 4,
         "y": 86.99,
         "_deepnote_index_column": 3
        },
        {
         "x": 5,
         "y": 84.14,
         "_deepnote_index_column": 4
        },
        {
         "x": 6,
         "y": 81.43,
         "_deepnote_index_column": 5
        },
        {
         "x": 7,
         "y": 78.85,
         "_deepnote_index_column": 6
        },
        {
         "x": 8,
         "y": 76.41,
         "_deepnote_index_column": 7
        },
        {
         "x": 9,
         "y": 74.08,
         "_deepnote_index_column": 8
        },
        {
         "x": 10,
         "y": 71.87,
         "_deepnote_index_column": 9
        },
        {
         "x": 11,
         "y": 69.78,
         "_deepnote_index_column": 10
        },
        {
         "x": 12,
         "y": 67.78,
         "_deepnote_index_column": 11
        },
        {
         "x": 13,
         "y": 65.89,
         "_deepnote_index_column": 12
        },
        {
         "x": 14,
         "y": 64.09,
         "_deepnote_index_column": 13
        },
        {
         "x": 15,
         "y": 62.39,
         "_deepnote_index_column": 14
        },
        {
         "x": 16,
         "y": 60.76,
         "_deepnote_index_column": 15
        },
        {
         "x": 17,
         "y": 59.22,
         "_deepnote_index_column": 16
        },
        {
         "x": 18,
         "y": 57.76,
         "_deepnote_index_column": 17
        },
        {
         "x": 19,
         "y": 56.37,
         "_deepnote_index_column": 18
        },
        {
         "x": 20,
         "y": 55.05,
         "_deepnote_index_column": 19
        },
        {
         "x": 21,
         "y": 53.79,
         "_deepnote_index_column": 20
        },
        {
         "x": 22,
         "y": 52.6,
         "_deepnote_index_column": 21
        },
        {
         "x": 23,
         "y": 51.47,
         "_deepnote_index_column": 22
        },
        {
         "x": 24,
         "y": 50.39,
         "_deepnote_index_column": 23
        },
        {
         "x": 25,
         "y": 49.37,
         "_deepnote_index_column": 24
        },
        {
         "x": 26,
         "y": 48.4,
         "_deepnote_index_column": 25
        },
        {
         "x": 27,
         "y": 47.48,
         "_deepnote_index_column": 26
        },
        {
         "x": 28,
         "y": 46.61,
         "_deepnote_index_column": 27
        },
        {
         "x": 29,
         "y": 45.77,
         "_deepnote_index_column": 28
        },
        {
         "x": 30,
         "y": 44.98,
         "_deepnote_index_column": 29
        },
        {
         "x": 31,
         "y": 44.23,
         "_deepnote_index_column": 30
        },
        {
         "x": 32,
         "y": 43.52,
         "_deepnote_index_column": 31
        },
        {
         "x": 33,
         "y": 42.84,
         "_deepnote_index_column": 32
        },
        {
         "x": 34,
         "y": 42.2,
         "_deepnote_index_column": 33
        },
        {
         "x": 35,
         "y": 41.59,
         "_deepnote_index_column": 34
        },
        {
         "x": 36,
         "y": 41.01,
         "_deepnote_index_column": 35
        },
        {
         "x": 37,
         "y": 40.46,
         "_deepnote_index_column": 36
        },
        {
         "x": 38,
         "y": 39.93,
         "_deepnote_index_column": 37
        },
        {
         "x": 39,
         "y": 39.44,
         "_deepnote_index_column": 38
        },
        {
         "x": 40,
         "y": 38.96,
         "_deepnote_index_column": 39
        },
        {
         "x": 41,
         "y": 38.51,
         "_deepnote_index_column": 40
        },
        {
         "x": 42,
         "y": 38.09,
         "_deepnote_index_column": 41
        },
        {
         "x": 43,
         "y": 37.68,
         "_deepnote_index_column": 42
        },
        {
         "x": 44,
         "y": 37.3,
         "_deepnote_index_column": 43
        },
        {
         "x": 45,
         "y": 36.93,
         "_deepnote_index_column": 44
        },
        {
         "x": 46,
         "y": 36.59,
         "_deepnote_index_column": 45
        },
        {
         "x": 47,
         "y": 36.26,
         "_deepnote_index_column": 46
        },
        {
         "x": 48,
         "y": 35.94,
         "_deepnote_index_column": 47
        },
        {
         "x": 49,
         "y": 35.64,
         "_deepnote_index_column": 48
        },
        {
         "x": 50,
         "y": 35.36,
         "_deepnote_index_column": 49
        },
        {
         "x": 51,
         "y": 35.09,
         "_deepnote_index_column": 50
        },
        {
         "x": 52,
         "y": 34.84,
         "_deepnote_index_column": 51
        },
        {
         "x": 53,
         "y": 34.6,
         "_deepnote_index_column": 52
        },
        {
         "x": 54,
         "y": 34.37,
         "_deepnote_index_column": 53
        },
        {
         "x": 55,
         "y": 34.15,
         "_deepnote_index_column": 54
        },
        {
         "x": 56,
         "y": 33.94,
         "_deepnote_index_column": 55
        },
        {
         "x": 57,
         "y": 33.74,
         "_deepnote_index_column": 56
        },
        {
         "x": 58,
         "y": 33.55,
         "_deepnote_index_column": 57
        },
        {
         "x": 59,
         "y": 33.38,
         "_deepnote_index_column": 58
        },
        {
         "x": 60,
         "y": 33.21,
         "_deepnote_index_column": 59
        }
       ],
       "rows_bottom": null
      },
      "text/plain": "     x      y\n0    1  96.49\n1    2  93.16\n2    3  90.00\n3    4  86.99\n4    5  84.14\n5    6  81.43\n6    7  78.85\n7    8  76.41\n8    9  74.08\n9   10  71.87\n10  11  69.78\n11  12  67.78\n12  13  65.89\n13  14  64.09\n14  15  62.39\n15  16  60.76\n16  17  59.22\n17  18  57.76\n18  19  56.37\n19  20  55.05\n20  21  53.79\n21  22  52.60\n22  23  51.47\n23  24  50.39\n24  25  49.37\n25  26  48.40\n26  27  47.48\n27  28  46.61\n28  29  45.77\n29  30  44.98\n30  31  44.23\n31  32  43.52\n32  33  42.84\n33  34  42.20\n34  35  41.59\n35  36  41.01\n36  37  40.46\n37  38  39.93\n38  39  39.44\n39  40  38.96\n40  41  38.51\n41  42  38.09\n42  43  37.68\n43  44  37.30\n44  45  36.93\n45  46  36.59\n46  47  36.26\n47  48  35.94\n48  49  35.64\n49  50  35.36\n50  51  35.09\n51  52  34.84\n52  53  34.60\n53  54  34.37\n54  55  34.15\n55  56  33.94\n56  57  33.74\n57  58  33.55\n58  59  33.38\n59  60  33.21",
      "text/html": "<div>\n<style scoped>\n    .dataframe tbody tr th:only-of-type {\n        vertical-align: middle;\n    }\n\n    .dataframe tbody tr th {\n        vertical-align: top;\n    }\n\n    .dataframe thead th {\n        text-align: right;\n    }\n</style>\n<table border=\"1\" class=\"dataframe\">\n  <thead>\n    <tr style=\"text-align: right;\">\n      <th></th>\n      <th>x</th>\n      <th>y</th>\n    </tr>\n  </thead>\n  <tbody>\n    <tr>\n      <th>0</th>\n      <td>1</td>\n      <td>96.49</td>\n    </tr>\n    <tr>\n      <th>1</th>\n      <td>2</td>\n      <td>93.16</td>\n    </tr>\n    <tr>\n      <th>2</th>\n      <td>3</td>\n      <td>90.00</td>\n    </tr>\n    <tr>\n      <th>3</th>\n      <td>4</td>\n      <td>86.99</td>\n    </tr>\n    <tr>\n      <th>4</th>\n      <td>5</td>\n      <td>84.14</td>\n    </tr>\n    <tr>\n      <th>5</th>\n      <td>6</td>\n      <td>81.43</td>\n    </tr>\n    <tr>\n      <th>6</th>\n      <td>7</td>\n      <td>78.85</td>\n    </tr>\n    <tr>\n      <th>7</th>\n      <td>8</td>\n      <td>76.41</td>\n    </tr>\n    <tr>\n      <th>8</th>\n      <td>9</td>\n      <td>74.08</td>\n    </tr>\n    <tr>\n      <th>9</th>\n      <td>10</td>\n      <td>71.87</td>\n    </tr>\n    <tr>\n      <th>10</th>\n      <td>11</td>\n      <td>69.78</td>\n    </tr>\n    <tr>\n      <th>11</th>\n      <td>12</td>\n      <td>67.78</td>\n    </tr>\n    <tr>\n      <th>12</th>\n      <td>13</td>\n      <td>65.89</td>\n    </tr>\n    <tr>\n      <th>13</th>\n      <td>14</td>\n      <td>64.09</td>\n    </tr>\n    <tr>\n      <th>14</th>\n      <td>15</td>\n      <td>62.39</td>\n    </tr>\n    <tr>\n      <th>15</th>\n      <td>16</td>\n      <td>60.76</td>\n    </tr>\n    <tr>\n      <th>16</th>\n      <td>17</td>\n      <td>59.22</td>\n    </tr>\n    <tr>\n      <th>17</th>\n      <td>18</td>\n      <td>57.76</td>\n    </tr>\n    <tr>\n      <th>18</th>\n      <td>19</td>\n      <td>56.37</td>\n    </tr>\n    <tr>\n      <th>19</th>\n      <td>20</td>\n      <td>55.05</td>\n    </tr>\n    <tr>\n      <th>20</th>\n      <td>21</td>\n      <td>53.79</td>\n    </tr>\n    <tr>\n      <th>21</th>\n      <td>22</td>\n      <td>52.60</td>\n    </tr>\n    <tr>\n      <th>22</th>\n      <td>23</td>\n      <td>51.47</td>\n    </tr>\n    <tr>\n      <th>23</th>\n      <td>24</td>\n      <td>50.39</td>\n    </tr>\n    <tr>\n      <th>24</th>\n      <td>25</td>\n      <td>49.37</td>\n    </tr>\n    <tr>\n      <th>25</th>\n      <td>26</td>\n      <td>48.40</td>\n    </tr>\n    <tr>\n      <th>26</th>\n      <td>27</td>\n      <td>47.48</td>\n    </tr>\n    <tr>\n      <th>27</th>\n      <td>28</td>\n      <td>46.61</td>\n    </tr>\n    <tr>\n      <th>28</th>\n      <td>29</td>\n      <td>45.77</td>\n    </tr>\n    <tr>\n      <th>29</th>\n      <td>30</td>\n      <td>44.98</td>\n    </tr>\n    <tr>\n      <th>30</th>\n      <td>31</td>\n      <td>44.23</td>\n    </tr>\n    <tr>\n      <th>31</th>\n      <td>32</td>\n      <td>43.52</td>\n    </tr>\n    <tr>\n      <th>32</th>\n      <td>33</td>\n      <td>42.84</td>\n    </tr>\n    <tr>\n      <th>33</th>\n      <td>34</td>\n      <td>42.20</td>\n    </tr>\n    <tr>\n      <th>34</th>\n      <td>35</td>\n      <td>41.59</td>\n    </tr>\n    <tr>\n      <th>35</th>\n      <td>36</td>\n      <td>41.01</td>\n    </tr>\n    <tr>\n      <th>36</th>\n      <td>37</td>\n      <td>40.46</td>\n    </tr>\n    <tr>\n      <th>37</th>\n      <td>38</td>\n      <td>39.93</td>\n    </tr>\n    <tr>\n      <th>38</th>\n      <td>39</td>\n      <td>39.44</td>\n    </tr>\n    <tr>\n      <th>39</th>\n      <td>40</td>\n      <td>38.96</td>\n    </tr>\n    <tr>\n      <th>40</th>\n      <td>41</td>\n      <td>38.51</td>\n    </tr>\n    <tr>\n      <th>41</th>\n      <td>42</td>\n      <td>38.09</td>\n    </tr>\n    <tr>\n      <th>42</th>\n      <td>43</td>\n      <td>37.68</td>\n    </tr>\n    <tr>\n      <th>43</th>\n      <td>44</td>\n      <td>37.30</td>\n    </tr>\n    <tr>\n      <th>44</th>\n      <td>45</td>\n      <td>36.93</td>\n    </tr>\n    <tr>\n      <th>45</th>\n      <td>46</td>\n      <td>36.59</td>\n    </tr>\n    <tr>\n      <th>46</th>\n      <td>47</td>\n      <td>36.26</td>\n    </tr>\n    <tr>\n      <th>47</th>\n      <td>48</td>\n      <td>35.94</td>\n    </tr>\n    <tr>\n      <th>48</th>\n      <td>49</td>\n      <td>35.64</td>\n    </tr>\n    <tr>\n      <th>49</th>\n      <td>50</td>\n      <td>35.36</td>\n    </tr>\n    <tr>\n      <th>50</th>\n      <td>51</td>\n      <td>35.09</td>\n    </tr>\n    <tr>\n      <th>51</th>\n      <td>52</td>\n      <td>34.84</td>\n    </tr>\n    <tr>\n      <th>52</th>\n      <td>53</td>\n      <td>34.60</td>\n    </tr>\n    <tr>\n      <th>53</th>\n      <td>54</td>\n      <td>34.37</td>\n    </tr>\n    <tr>\n      <th>54</th>\n      <td>55</td>\n      <td>34.15</td>\n    </tr>\n    <tr>\n      <th>55</th>\n      <td>56</td>\n      <td>33.94</td>\n    </tr>\n    <tr>\n      <th>56</th>\n      <td>57</td>\n      <td>33.74</td>\n    </tr>\n    <tr>\n      <th>57</th>\n      <td>58</td>\n      <td>33.55</td>\n    </tr>\n    <tr>\n      <th>58</th>\n      <td>59</td>\n      <td>33.38</td>\n    </tr>\n    <tr>\n      <th>59</th>\n      <td>60</td>\n      <td>33.21</td>\n    </tr>\n  </tbody>\n</table>\n</div>"
     },
     "metadata": {}
    }
   ]
  },
  {
   "cell_type": "markdown",
   "source": "### Se grafica los puntos y podemos observar que su comportamiento es no lineal",
   "metadata": {
    "tags": [],
    "is_collapsed": false,
    "cell_id": "00006-544b48bf-73a6-4e08-9488-07b7f17b587c",
    "deepnote_app_coordinates": {
     "x": 0,
     "y": 54,
     "w": 24,
     "h": 2,
     "minH": 2,
     "maxH": 2
    },
    "deepnote_cell_type": "text-cell-h3",
    "deepnote_cell_height": 62
   }
  },
  {
   "cell_type": "code",
   "metadata": {
    "tags": [],
    "cell_id": "00007-a636dbb4-acc3-4db0-876d-878d3a7f7926",
    "deepnote_to_be_reexecuted": false,
    "source_hash": "dcfae922",
    "execution_start": 1630346994216,
    "execution_millis": 138,
    "deepnote_app_coordinates": {
     "x": 0,
     "y": 6,
     "w": 24,
     "h": 5,
     "minH": 5
    },
    "deepnote_cell_type": "code",
    "deepnote_cell_height": 449.1875,
    "deepnote_output_heights": [
     21.1875,
     264
    ]
   },
   "source": "plt.plot(x,y,'o',color='orange')\nplt.xlabel('x')\nplt.ylabel('y')",
   "execution_count": null,
   "outputs": [
    {
     "output_type": "execute_result",
     "execution_count": 10,
     "data": {
      "text/plain": "Text(0, 0.5, 'y')"
     },
     "metadata": {}
    },
    {
     "data": {
      "text/plain": "<Figure size 432x288 with 1 Axes>",
      "image/png": "[encoded data removed]"
     },
     "metadata": {
      "needs_background": "light",
      "image/png": {
       "width": 382,
       "height": 262
      }
     },
     "output_type": "display_data"
    }
   ]
  },
  {
   "cell_type": "markdown",
   "source": "### Ajuste de modelos",
   "metadata": {
    "tags": [],
    "is_collapsed": false,
    "cell_id": "00008-8725d7d3-130b-4c91-88c0-49c3233503ed",
    "deepnote_app_coordinates": {
     "x": 0,
     "y": 57,
     "w": 24,
     "h": 2,
     "minH": 2,
     "maxH": 2
    },
    "deepnote_cell_type": "text-cell-h3",
    "deepnote_cell_height": 62
   }
  },
  {
   "cell_type": "code",
   "metadata": {
    "tags": [],
    "cell_id": "00009-7a4894b4-a141-474e-b537-febd003c68d8",
    "deepnote_to_be_reexecuted": false,
    "source_hash": "4c5db2b6",
    "execution_start": 1630346959698,
    "execution_millis": 0,
    "deepnote_app_coordinates": {
     "x": 0,
     "y": 12,
     "w": 24,
     "h": 5,
     "minH": 5
    },
    "deepnote_cell_type": "code",
    "deepnote_cell_height": 153
   },
   "source": "#Se defien los ajustes a ecuaciones de grado 1,2,3 y 4\nr1=np.polyfit(x, y, deg=1)\nr2=np.polyfit(x, y, deg=2)\nr3=np.polyfit(x, y, deg=3)\nr4=np.polyfit(x, y, deg=4)",
   "execution_count": null,
   "outputs": []
  },
  {
   "cell_type": "code",
   "metadata": {
    "tags": [],
    "cell_id": "00012-04506c72-4303-4293-ad10-ab93bd893c5f",
    "deepnote_to_be_reexecuted": false,
    "source_hash": "1e200a16",
    "execution_start": 1630346959699,
    "execution_millis": 0,
    "deepnote_app_coordinates": {
     "x": 0,
     "y": 18,
     "w": 24,
     "h": 5,
     "minH": 5
    },
    "deepnote_cell_type": "code",
    "deepnote_cell_height": 261
   },
   "source": "def f1(xi):\n    return x*r1[0] + r1[1]\n    \ndef f2(xi):\n    return r2[0]*x**2 + r2[1]*x +r2[2]\n\ndef f3(xi):\n    return r3[0]*x**3 + r3[1]*x**2 +r3[2]*x + r3[3]\n\ndef f4(xi):\n    return r4[0]*x**4 + r4[1]*x**3 + r4[2]*x**2 +r4[3]*x + r4[4]",
   "execution_count": null,
   "outputs": []
  },
  {
   "cell_type": "markdown",
   "source": "### Lineal de 1er grado",
   "metadata": {
    "tags": [],
    "is_collapsed": false,
    "cell_id": "00011-9d7161cf-8de8-48be-8e52-7940bf2719a3",
    "deepnote_app_coordinates": {
     "x": 0,
     "y": 60,
     "w": 24,
     "h": 2,
     "minH": 2,
     "maxH": 2
    },
    "deepnote_cell_type": "text-cell-h3",
    "deepnote_cell_height": 62
   }
  },
  {
   "cell_type": "code",
   "metadata": {
    "tags": [],
    "cell_id": "00011-311a6a62-996c-48e5-90f5-4d60e096aba1",
    "deepnote_to_be_reexecuted": false,
    "source_hash": "1a649213",
    "execution_start": 1630346959700,
    "execution_millis": 166,
    "deepnote_app_coordinates": {
     "x": 0,
     "y": 24,
     "w": 24,
     "h": 5,
     "minH": 5
    },
    "deepnote_cell_type": "code",
    "deepnote_cell_height": 577,
    "deepnote_output_heights": [
     268
    ]
   },
   "source": "plt.plot(x,f1(x),label='Lineal de 1er grado')\nplt.plot(x,y,'o')\nplt.xlabel('x')\nplt.ylabel('y')\nplt.legend()\nplt.show()\nprint(f\"\"\"La ecuacion de la curva es:\n{np.poly1d(r1)}\"\"\")",
   "execution_count": null,
   "outputs": [
    {
     "data": {
      "text/plain": "<Figure size 432x288 with 1 Axes>",
      "image/png": "[encoded data removed]"
     },
     "metadata": {
      "needs_background": "light",
      "image/png": {
       "width": 389,
       "height": 266
      }
     },
     "output_type": "display_data"
    },
    {
     "name": "stdout",
     "text": "La ecuacion de la curva es:\n \n-0.9443 x + 79.91\n",
     "output_type": "stream"
    }
   ]
  },
  {
   "cell_type": "markdown",
   "source": "### Función de 2do grado",
   "metadata": {
    "tags": [],
    "is_collapsed": false,
    "cell_id": "00013-cce15bb8-f3da-47db-98cd-23a1d10533a3",
    "deepnote_app_coordinates": {
     "x": 0,
     "y": 63,
     "w": 24,
     "h": 2,
     "minH": 2,
     "maxH": 2
    },
    "deepnote_cell_type": "text-cell-h3",
    "deepnote_cell_height": 62
   }
  },
  {
   "cell_type": "code",
   "metadata": {
    "tags": [],
    "cell_id": "00014-377e12a5-e5bf-40dc-bc14-ab03e46a70db",
    "deepnote_to_be_reexecuted": false,
    "source_hash": "3fba7032",
    "execution_start": 1630346959902,
    "execution_millis": 167,
    "deepnote_app_coordinates": {
     "x": 0,
     "y": 66,
     "w": 24,
     "h": 5,
     "minH": 5
    },
    "deepnote_cell_type": "code",
    "deepnote_cell_height": 573,
    "deepnote_output_heights": [
     264
    ]
   },
   "source": "plt.plot(x,f2(x),label='Función de 2do grado')\nplt.plot(x,y,'o')\nplt.xlabel('x')\nplt.ylabel('y')\nplt.legend()\nplt.show()\nprint(f\"\"\"La ecuacion de la curva es: \n{np.poly1d(r2)}\"\"\")",
   "execution_count": null,
   "outputs": [
    {
     "data": {
      "text/plain": "<Figure size 432x288 with 1 Axes>",
      "image/png": "[encoded data removed]"
     },
     "metadata": {
      "needs_background": "light",
      "image/png": {
       "width": 382,
       "height": 262
      }
     },
     "output_type": "display_data"
    },
    {
     "name": "stdout",
     "text": "La ecuacion de la curva es: \n         2\n0.02277 x - 2.333 x + 94.27\n",
     "output_type": "stream"
    }
   ]
  },
  {
   "cell_type": "markdown",
   "source": "### Función de 3er grado",
   "metadata": {
    "tags": [],
    "is_collapsed": false,
    "cell_id": "00015-3f3a9d7c-00f0-46d3-9990-35cf5773c141",
    "deepnote_app_coordinates": {
     "x": 0,
     "y": 84,
     "w": 24,
     "h": 2,
     "minH": 2,
     "maxH": 2
    },
    "deepnote_cell_type": "text-cell-h3",
    "deepnote_cell_height": 62
   }
  },
  {
   "cell_type": "code",
   "metadata": {
    "tags": [],
    "cell_id": "00015-46bf8b2a-eb6c-4d5a-8454-370883efbafb",
    "deepnote_to_be_reexecuted": false,
    "source_hash": "29a664e0",
    "execution_start": 1630346960110,
    "execution_millis": 172,
    "deepnote_app_coordinates": {
     "x": 0,
     "y": 72,
     "w": 24,
     "h": 5,
     "minH": 5
    },
    "deepnote_cell_type": "code",
    "deepnote_cell_height": 573,
    "deepnote_output_heights": [
     264
    ]
   },
   "source": "plt.plot(x,f3(x),label='Función de 3er grado')\nplt.plot(x,y,'o')\nplt.xlabel('x')\nplt.ylabel('y')\nplt.legend()\nplt.show()\nprint(f\"\"\"La ecuacion de la curva es: \n{np.poly1d(r3)}\"\"\")",
   "execution_count": null,
   "outputs": [
    {
     "data": {
      "text/plain": "<Figure size 432x288 with 1 Axes>",
      "image/png": "[encoded data removed]"
     },
     "metadata": {
      "needs_background": "light",
      "image/png": {
       "width": 382,
       "height": 262
      }
     },
     "output_type": "display_data"
    },
    {
     "name": "stdout",
     "text": "La ecuacion de la curva es: \n            3           2\n-0.0003761 x + 0.05719 x - 3.18 x + 98.75\n",
     "output_type": "stream"
    }
   ]
  },
  {
   "cell_type": "markdown",
   "source": "### Función de 4to grado",
   "metadata": {
    "tags": [],
    "is_collapsed": false,
    "cell_id": "00017-5cc6ab06-37a9-4be9-bf22-8cc1be0d0de2",
    "deepnote_app_coordinates": {
     "x": 0,
     "y": 87,
     "w": 24,
     "h": 2,
     "minH": 2,
     "maxH": 2
    },
    "deepnote_cell_type": "text-cell-h3",
    "deepnote_cell_height": 62
   }
  },
  {
   "cell_type": "code",
   "metadata": {
    "tags": [],
    "cell_id": "00016-d2ab6faa-277b-4d21-9b0b-c4cfffea6886",
    "deepnote_to_be_reexecuted": false,
    "source_hash": "26c16044",
    "execution_start": 1630346960285,
    "execution_millis": 143,
    "deepnote_app_coordinates": {
     "x": 0,
     "y": 78,
     "w": 24,
     "h": 5,
     "minH": 5
    },
    "deepnote_cell_type": "code",
    "deepnote_cell_height": 573,
    "deepnote_output_heights": [
     264
    ]
   },
   "source": "plt.plot(x,f4(x),label='Función de 4to grado')\nplt.plot(x,y,'o')\nplt.xlabel('x')\nplt.ylabel('y')\nplt.legend()\nplt.show()\nprint(f\"\"\"La ecuacion de la curva es: \n{np.poly1d(r4)}\"\"\")",
   "execution_count": null,
   "outputs": [
    {
     "data": {
      "text/plain": "<Figure size 432x288 with 1 Axes>",
      "image/png": "[encoded data removed]"
     },
     "metadata": {
      "needs_background": "light",
      "image/png": {
       "width": 382,
       "height": 262
      }
     },
     "output_type": "display_data"
    },
    {
     "name": "stdout",
     "text": "La ecuacion de la curva es: \n           4             3           2\n4.714e-06 x - 0.0009512 x + 0.07986 x - 3.494 x + 99.78\n",
     "output_type": "stream"
    }
   ]
  },
  {
   "cell_type": "markdown",
   "source": "### Conclusiones",
   "metadata": {
    "tags": [],
    "is_collapsed": false,
    "cell_id": "00019-e9bdc668-2c71-4e96-8402-c8ab1ec77e94",
    "deepnote_app_coordinates": {
     "x": 0,
     "y": 90,
     "w": 24,
     "h": 2,
     "minH": 2,
     "maxH": 2
    },
    "deepnote_cell_type": "text-cell-h3",
    "deepnote_cell_height": 62
   }
  },
  {
   "cell_type": "markdown",
   "source": "##### Como podemos observar en los gráficos es evidente que las funciones de 1er y 2do grado no se ajustan de manera correcta a los datos. Sin embargo, las de 3er y 4to grado si lo hacen a la perfección.\n##### Este método resulto muy eficiente para analizar grandes volúmenes de datos y encontrar un polinomio que pueda describir el comportamiento de casi cualquier fenómeno.\n\n\n#### Por último, usted puede usar este notebook con su propio dataset para comprobar que modelo se ajusta mejor.",
   "metadata": {
    "tags": [],
    "cell_id": "00020-c37cb106-b56d-476f-b0a1-e4d73ed591cc",
    "deepnote_app_coordinates": {
     "x": 0,
     "y": 93,
     "w": 24,
     "h": 5,
     "minH": 5
    },
    "deepnote_cell_type": "markdown",
    "deepnote_cell_height": 206
   }
  },
  {
   "cell_type": "markdown",
   "source": "<a style='text-decoration:none;line-height:16px;display:flex;color:#5B5B62;padding:10px;justify-content:end;' href='https://deepnote.com?utm_source=created-in-deepnote-cell&projectId=3d7d8a7a-8f26-4175-afa8-98d21fc00d48' target=\"_blank\">\n<img alt='Created in deepnote.com' style='display:inline;max-height:16px;margin:0px;margin-right:7.5px;' src='data:image/svg+xml;base64,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' > </img>\nCreated in <span style='font-weight:600;margin-left:4px;'>Deepnote</span></a>",
   "metadata": {
    "tags": [],
    "created_in_deepnote_cell": true,
    "deepnote_cell_type": "markdown"
   }
  }
 ],
 "nbformat": 4,
 "nbformat_minor": 2,
 "metadata": {
  "orig_nbformat": 2,
  "deepnote": {
   "is_reactive": false
  },
  "deepnote_notebook_id": "eabbf752-3bc5-4a10-bb53-14005a4a72d0",
  "deepnote_execution_queue": [],
  "deepnote_app_layout": "article"
 }
}